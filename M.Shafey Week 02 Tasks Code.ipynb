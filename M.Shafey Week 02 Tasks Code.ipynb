{
 "cells": [
  {
   "cell_type": "code",
   "execution_count": 1,
   "id": "99c15ab7-fc10-48ea-b0fe-7009460b0cfc",
   "metadata": {},
   "outputs": [
    {
     "name": "stdout",
     "output_type": "stream",
     "text": [
      "Sanaullah\n",
      "Mansoor\n",
      "Muhammad\n",
      "Shafey\n",
      "Ali\n"
     ]
    }
   ],
   "source": [
    "## welcome to week task 2 ##\n",
    "## Topic 01: lists ##\n",
    "student_names = [\"Sanaullah\",\"Mansoor\",\"Muhammad\",\"Shafey\",\"Ali\"]\n",
    "for name in student_names:\n",
    "    print(name)"
   ]
  },
  {
   "cell_type": "code",
   "execution_count": 2,
   "id": "a740c2cb-0322-4587-8180-155ae8fa8942",
   "metadata": {},
   "outputs": [
    {
     "name": "stdout",
     "output_type": "stream",
     "text": [
      "['Ali', 'Shafey', 'Muhammad', 'Mansoor', 'Sanaullah']\n"
     ]
    }
   ],
   "source": [
    "# reverse list #\n",
    "students = [\"Sanaullah\",\"Mansoor\",\"Muhammad\",\"Shafey\",\"Ali\"]\n",
    "reversed_students = students[::-1]\n",
    "print(reversed_students)"
   ]
  },
  {
   "cell_type": "code",
   "execution_count": 3,
   "id": "9a6f2acd-01c0-4133-8601-5f45ac91cc1b",
   "metadata": {},
   "outputs": [
    {
     "name": "stdout",
     "output_type": "stream",
     "text": [
      "x: 15\n",
      "y: 35\n",
      "z: 50\n"
     ]
    }
   ],
   "source": [
    "## Topic 02: tuples ##\n",
    "coordinate = (15,35,50)\n",
    "x,y,z = coordinate\n",
    "print(\"x:\",x)\n",
    "print(\"y:\",y)\n",
    "print(\"z:\",z)"
   ]
  },
  {
   "cell_type": "code",
   "execution_count": 4,
   "id": "f074e24c-7d6e-4f5d-8f0f-90d35a6449c6",
   "metadata": {},
   "outputs": [
    {
     "name": "stdout",
     "output_type": "stream",
     "text": [
      "a: 25\n",
      "b: 10\n"
     ]
    }
   ],
   "source": [
    "# swap variables #\n",
    "a=10\n",
    "b=25\n",
    "a,b = b,a\n",
    "print(\"a:\",a)\n",
    "print(\"b:\",b)"
   ]
  },
  {
   "cell_type": "code",
   "execution_count": 5,
   "id": "be6687e7-18c0-4a2d-8051-66f54c3adea0",
   "metadata": {},
   "outputs": [
    {
     "name": "stdout",
     "output_type": "stream",
     "text": [
      "{'red', 'yellow', 'blue', 'green'}\n"
     ]
    }
   ],
   "source": [
    "## Topic 03: sets ##\n",
    "colors = [\"red\",\"blue\",\"green\",\"yellow\",\"green\"]\n",
    "unique_colors = set(colors)\n",
    "print(unique_colors)"
   ]
  },
  {
   "cell_type": "code",
   "execution_count": 6,
   "id": "8409e159-d812-49ee-9948-432bedc13e67",
   "metadata": {},
   "outputs": [
    {
     "name": "stdout",
     "output_type": "stream",
     "text": [
      "Intersection: {40, 30}\n"
     ]
    }
   ],
   "source": [
    "#intersection of two sets#\n",
    "set1 = {10,30,25,40,35}\n",
    "set2 = {50,40,60,30,70}\n",
    "common = set1 & set2\n",
    "print(\"Intersection:\",common) "
   ]
  },
  {
   "cell_type": "code",
   "execution_count": 7,
   "id": "cfa17206-dc2f-4120-a110-779b6d966c32",
   "metadata": {},
   "outputs": [
    {
     "name": "stdout",
     "output_type": "stream",
     "text": [
      "{'name': 'Shafey', 'age': '20', 'grade': 'A'}\n",
      "{'name': 'Shafey', 'grade': 'A+'}\n"
     ]
    }
   ],
   "source": [
    "## Topic 04: dictionaries ##\n",
    "#student record CRUD#\n",
    "student = {}\n",
    "#create\n",
    "student[\"name\"] = \"Shafey\"\n",
    "student[\"age\"] = \"20\"\n",
    "student[\"grade\"] = \"A\"\n",
    "#Read\n",
    "print(student)\n",
    "#Update\n",
    "student[\"grade\"] = \"A+\"\n",
    "#Delete\n",
    "del student[\"age\"] \n",
    "print(student)"
   ]
  },
  {
   "cell_type": "code",
   "execution_count": 8,
   "id": "63fd94c6-498e-41c4-ae24-365ab355a22e",
   "metadata": {},
   "outputs": [
    {
     "name": "stdout",
     "output_type": "stream",
     "text": [
      "{'this': 2, 'is': 2, 'a': 2, 'test': 2, 'only': 1}\n"
     ]
    }
   ],
   "source": [
    "#count word frequency in sentence#\n",
    "sentence = \"this is a test this is only a test\"\n",
    "words = sentence.split()\n",
    "word_count = {}\n",
    "for word in words:\n",
    "    if word in word_count:\n",
    "        word_count[word] += 1\n",
    "    else:\n",
    "        word_count[word] = 1\n",
    "print(word_count)"
   ]
  },
  {
   "cell_type": "code",
   "execution_count": 9,
   "id": "817e2dd5-e779-41c2-bc1d-4c69c5a10e24",
   "metadata": {},
   "outputs": [
    {
     "name": "stdout",
     "output_type": "stream",
     "text": [
      "34\n"
     ]
    }
   ],
   "source": [
    "## Topic 05: functions ##\n",
    "#calculator function#\n",
    "def calc(a,b,op):\n",
    "    if op == '+':\n",
    "        return a + b\n",
    "    elif op == '-':\n",
    "        return a - b\n",
    "    elif op == '*':\n",
    "        return a * b\n",
    "    elif op == '/':\n",
    "        return a / b\n",
    "    else:\n",
    "        return\"Invalid operator\"\n",
    "print(calc(14,20,'+'))"
   ]
  },
  {
   "cell_type": "code",
   "execution_count": 10,
   "id": "e3dd4b91-01cd-4f8d-b698-804fda22f588",
   "metadata": {},
   "outputs": [
    {
     "name": "stdout",
     "output_type": "stream",
     "text": [
      "24\n"
     ]
    }
   ],
   "source": [
    "#factorial recursive#\n",
    "def factorial(n):\n",
    "    if n == 1:\n",
    "        return 1\n",
    "    else:\n",
    "        return n * factorial(n - 1)\n",
    "print(factorial(4))"
   ]
  },
  {
   "cell_type": "code",
   "execution_count": 12,
   "id": "c2a7c497-5273-4710-8897-33ca34408c70",
   "metadata": {},
   "outputs": [
    {
     "name": "stdout",
     "output_type": "stream",
     "text": [
      "Random number: 84\n",
      "Current date and time: 2025-08-07 21:36:43.937340\n"
     ]
    }
   ],
   "source": [
    "## Topic 06: modules ##\n",
    "import random\n",
    "import datetime\n",
    "print(\"Random number:\",random.randint(1,100))\n",
    "print(\"Current date and time:\",datetime.datetime.now())"
   ]
  },
  {
   "cell_type": "code",
   "execution_count": 17,
   "id": "a6d8c8e8-12d9-40fb-9413-3d70b5f4d2a0",
   "metadata": {},
   "outputs": [
    {
     "name": "stdout",
     "output_type": "stream",
     "text": [
      "15\n"
     ]
    }
   ],
   "source": [
    "import math_utils\n",
    "print(math_utils.add(5,10))"
   ]
  },
  {
   "cell_type": "code",
   "execution_count": 19,
   "id": "820e64e1-8fa1-44df-b63e-b8df42df4b7d",
   "metadata": {},
   "outputs": [
    {
     "name": "stdin",
     "output_type": "stream",
     "text": [
      "Enter a number:  15\n"
     ]
    },
    {
     "name": "stdout",
     "output_type": "stream",
     "text": [
      "You entered: 15\n"
     ]
    }
   ],
   "source": [
    "# Topic 07: exceptions\n",
    "# safe integer input loop\n",
    "while True:\n",
    "    try:\n",
    "        number = int(input(\"Enter a number: \"))\n",
    "        print(\"You entered:\", number)\n",
    "        break\n",
    "    except ValueError:\n",
    "        print(\"Invalid input. Please enter a number.\")"
   ]
  },
  {
   "cell_type": "code",
   "execution_count": 20,
   "id": "6d4e01b5-aee3-45b8-84d1-b3bd1d533ab9",
   "metadata": {},
   "outputs": [
    {
     "name": "stdout",
     "output_type": "stream",
     "text": [
      "File not found.\n"
     ]
    }
   ],
   "source": [
    "# file open with error message\n",
    "try:\n",
    "    file = open(\"data.txt\",\"r\")\n",
    "    content = file.read()\n",
    "    print(content)\n",
    "    file.close()\n",
    "except FileNotFoundError:\n",
    "    print(\"File not found.\")"
   ]
  },
  {
   "cell_type": "code",
   "execution_count": 21,
   "id": "dd446ad7-ed84-48bf-b68b-cae3f328860f",
   "metadata": {},
   "outputs": [
    {
     "name": "stdout",
     "output_type": "stream",
     "text": [
      "\n",
      "--- Phonebook Menu ---\n",
      "1. Add Contact\n",
      "2. View Contacts\n",
      "3. Update Contact\n",
      "4. Delete Contact\n",
      "5. Exit\n"
     ]
    },
    {
     "name": "stdin",
     "output_type": "stream",
     "text": [
      "Enter choice (1-5):  3\n",
      "Enter name to update:  shafey\n"
     ]
    },
    {
     "name": "stdout",
     "output_type": "stream",
     "text": [
      "Contact not found.\n",
      "\n",
      "--- Phonebook Menu ---\n",
      "1. Add Contact\n",
      "2. View Contacts\n",
      "3. Update Contact\n",
      "4. Delete Contact\n",
      "5. Exit\n"
     ]
    },
    {
     "name": "stdin",
     "output_type": "stream",
     "text": [
      "Enter choice (1-5):  1\n",
      "Enter name:  shafey\n",
      "Enter phone:  123456789\n"
     ]
    },
    {
     "name": "stdout",
     "output_type": "stream",
     "text": [
      "Contact added!\n",
      "\n",
      "--- Phonebook Menu ---\n",
      "1. Add Contact\n",
      "2. View Contacts\n",
      "3. Update Contact\n",
      "4. Delete Contact\n",
      "5. Exit\n"
     ]
    },
    {
     "name": "stdin",
     "output_type": "stream",
     "text": [
      "Enter choice (1-5):  2\n"
     ]
    },
    {
     "name": "stdout",
     "output_type": "stream",
     "text": [
      "shafey: 123456789\n",
      "\n",
      "--- Phonebook Menu ---\n",
      "1. Add Contact\n",
      "2. View Contacts\n",
      "3. Update Contact\n",
      "4. Delete Contact\n",
      "5. Exit\n"
     ]
    },
    {
     "name": "stdin",
     "output_type": "stream",
     "text": [
      "Enter choice (1-5):  3\n",
      "Enter name to update:  Muhammad\n"
     ]
    },
    {
     "name": "stdout",
     "output_type": "stream",
     "text": [
      "Contact not found.\n",
      "\n",
      "--- Phonebook Menu ---\n",
      "1. Add Contact\n",
      "2. View Contacts\n",
      "3. Update Contact\n",
      "4. Delete Contact\n",
      "5. Exit\n"
     ]
    },
    {
     "name": "stdin",
     "output_type": "stream",
     "text": [
      "Enter choice (1-5):  3\n",
      "Enter name to update:  shafey\n",
      "Enter new phone:  987654321\n"
     ]
    },
    {
     "name": "stdout",
     "output_type": "stream",
     "text": [
      "Contact updated!\n",
      "\n",
      "--- Phonebook Menu ---\n",
      "1. Add Contact\n",
      "2. View Contacts\n",
      "3. Update Contact\n",
      "4. Delete Contact\n",
      "5. Exit\n"
     ]
    },
    {
     "name": "stdin",
     "output_type": "stream",
     "text": [
      "Enter choice (1-5):  4\n",
      "Enter name to delete:  shafey\n"
     ]
    },
    {
     "name": "stdout",
     "output_type": "stream",
     "text": [
      "Contact deleted.\n",
      "\n",
      "--- Phonebook Menu ---\n",
      "1. Add Contact\n",
      "2. View Contacts\n",
      "3. Update Contact\n",
      "4. Delete Contact\n",
      "5. Exit\n"
     ]
    },
    {
     "name": "stdin",
     "output_type": "stream",
     "text": [
      "Enter choice (1-5):  5\n"
     ]
    },
    {
     "name": "stdout",
     "output_type": "stream",
     "text": [
      "Goodbye!\n"
     ]
    }
   ],
   "source": [
    "# phonebook app\n",
    "import json\n",
    "import os\n",
    "# File to store contacts\n",
    "filename = \"phonebook.json\"\n",
    "# Load contacts from file if exists\n",
    "def load_contacts():\n",
    "    if os.path.exists(filename):\n",
    "        with open(filename, 'r') as f:\n",
    "            return json.load(f)\n",
    "    else:\n",
    "        return {}\n",
    "# Save contacts to file\n",
    "def save_contacts(contacts):\n",
    "    with open(filename, 'w') as f:\n",
    "        json.dump(contacts, f, indent=2)\n",
    "# Add new contact\n",
    "def add_contact(contacts):\n",
    "    name = input(\"Enter name: \")\n",
    "    phone = input(\"Enter phone: \")\n",
    "    contacts[name] = phone\n",
    "    print(\"Contact added!\")\n",
    "# View all contacts\n",
    "def view_contacts(contacts):\n",
    "    if contacts:\n",
    "        for name, phone in contacts.items():\n",
    "            print(f\"{name}: {phone}\")\n",
    "    else:\n",
    "        print(\"No contacts found.\")\n",
    "# Update contact\n",
    "def update_contact(contacts):\n",
    "    name = input(\"Enter name to update: \")\n",
    "    if name in contacts:\n",
    "        new_phone = input(\"Enter new phone: \")\n",
    "        contacts[name] = new_phone\n",
    "        print(\"Contact updated!\")\n",
    "    else:\n",
    "        print(\"Contact not found.\")\n",
    "# Delete contact\n",
    "def delete_contact(contacts):\n",
    "    name = input(\"Enter name to delete: \")\n",
    "    if name in contacts:\n",
    "        del contacts[name]\n",
    "        print(\"Contact deleted.\")\n",
    "    else:\n",
    "        print(\"Contact not found.\")\n",
    "# Main menu\n",
    "def main():\n",
    "    contacts = load_contacts()\n",
    "    while True:\n",
    "        print(\"\\n--- Phonebook Menu ---\")\n",
    "        print(\"1. Add Contact\")\n",
    "        print(\"2. View Contacts\")\n",
    "        print(\"3. Update Contact\")\n",
    "        print(\"4. Delete Contact\")\n",
    "        print(\"5. Exit\")\n",
    "        choice = input(\"Enter choice (1-5): \")\n",
    "        if choice == '1':\n",
    "            add_contact(contacts)\n",
    "        elif choice == '2':\n",
    "            view_contacts(contacts)\n",
    "        elif choice == '3':\n",
    "            update_contact(contacts)\n",
    "        elif choice == '4':\n",
    "            delete_contact(contacts)\n",
    "        elif choice == '5':\n",
    "            save_contacts(contacts)\n",
    "            print(\"Goodbye!\")\n",
    "            break\n",
    "        else:\n",
    "            print(\"Invalid choice. Try again.\")\n",
    "main()"
   ]
  },
  {
   "cell_type": "code",
   "execution_count": null,
   "id": "44a1f614-121e-4297-9597-fa2318d62deb",
   "metadata": {},
   "outputs": [],
   "source": []
  }
 ],
 "metadata": {
  "kernelspec": {
   "display_name": "Python 3 (ipykernel)",
   "language": "python",
   "name": "python3"
  },
  "language_info": {
   "codemirror_mode": {
    "name": "ipython",
    "version": 3
   },
   "file_extension": ".py",
   "mimetype": "text/x-python",
   "name": "python",
   "nbconvert_exporter": "python",
   "pygments_lexer": "ipython3",
   "version": "3.13.5"
  }
 },
 "nbformat": 4,
 "nbformat_minor": 5
}
